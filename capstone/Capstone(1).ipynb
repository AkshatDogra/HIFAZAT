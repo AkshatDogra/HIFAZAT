{
 "cells": [
  {
   "cell_type": "markdown",
   "metadata": {
    "id": "v5UbaXJPtW1L"
   },
   "source": [
    "# Scream Detection"
   ]
  },
  {
   "cell_type": "markdown",
   "metadata": {
    "id": "pS7Y6z3jtZaj"
   },
   "source": [
    "## Dataset from Drive"
   ]
  },
  {
   "cell_type": "code",
   "execution_count": null,
   "metadata": {
    "colab": {
     "base_uri": "https://localhost:8080/"
    },
    "executionInfo": {
     "elapsed": 29489,
     "status": "ok",
     "timestamp": 1651997223601,
     "user": {
      "displayName": "RITIK RAJDEV",
      "userId": "08013551540463342687"
     },
     "user_tz": -330
    },
    "id": "OfpR5ucnrXvy",
    "outputId": "8d1dcbbc-9d94-45b1-af74-d9fb05789bef"
   },
   "outputs": [
    {
     "name": "stdout",
     "output_type": "stream",
     "text": [
      "Mounted at /content/gdrive\n"
     ]
    }
   ],
   "source": [
    "from google.colab import drive\n",
    "drive.mount('/content/gdrive')"
   ]
  },
  {
   "cell_type": "markdown",
   "metadata": {
    "id": "yWibVr2puBiw"
   },
   "source": [
    "## Dependencies"
   ]
  },
  {
   "cell_type": "code",
   "execution_count": null,
   "metadata": {
    "colab": {
     "base_uri": "https://localhost:8080/"
    },
    "executionInfo": {
     "elapsed": 4180,
     "status": "ok",
     "timestamp": 1651997453322,
     "user": {
      "displayName": "RITIK RAJDEV",
      "userId": "08013551540463342687"
     },
     "user_tz": -330
    },
    "id": "qD6ucw2vt_vX",
    "outputId": "b3aff366-d8de-44ac-90a0-62a663e3d920"
   },
   "outputs": [
    {
     "name": "stdout",
     "output_type": "stream",
     "text": [
      "Collecting pydub\n",
      "  Downloading pydub-0.25.1-py2.py3-none-any.whl (32 kB)\n",
      "Installing collected packages: pydub\n",
      "Successfully installed pydub-0.25.1\n"
     ]
    }
   ],
   "source": [
    "!pip install pydub"
   ]
  },
  {
   "cell_type": "markdown",
   "metadata": {
    "id": "TuvvK-HpuO70"
   },
   "source": [
    "## Feature Extraction"
   ]
  },
  {
   "cell_type": "code",
   "execution_count": null,
   "metadata": {
    "id": "tDuMcBNL7hA3"
   },
   "outputs": [],
   "source": [
    "import numpy as np"
   ]
  },
  {
   "cell_type": "code",
   "execution_count": null,
   "metadata": {
    "id": "ErEKMqsPuJdq"
   },
   "outputs": [],
   "source": [
    "from pathlib import Path\n",
    "\n",
    "DATASET_PATH = Path('./data').resolve()\n",
    "NON_SCREAM_PATH = (DATASET_PATH / 'negative').resolve()\n",
    "SCREAM_PATH = (DATASET_PATH / 'positive').resolve()\n",
    "ATMOSPHERIC_PATH = (DATASET_PATH / 'atmospheric_data').resolve()"
   ]
  },
  {
   "cell_type": "code",
   "execution_count": null,
   "metadata": {
    "id": "Umli5d3I6QF7"
   },
   "outputs": [],
   "source": [
    "import librosa\n",
    "\n",
    "def extract_features(file: Path):\n",
    "    audio, sr = librosa.load(file, res_type='kaiser_fast')\n",
    "    mfccs = librosa.feature.mfcc(y=audio, sr=sr, n_mfcc=40)\n",
    "    features = np.mean(mfccs.T, axis=0)\n",
    "\n",
    "    return features"
   ]
  },
  {
   "cell_type": "code",
   "execution_count": null,
   "metadata": {
    "id": "374Jf6ILus1f"
   },
   "outputs": [],
   "source": [
    "classes = {\n",
    "    'label': ['scream', 'non_scream', 'atmospheric'],\n",
    "    'dataset_dir': [SCREAM_PATH, NON_SCREAM_PATH, ATMOSPHERIC_PATH]\n",
    "}"
   ]
  },
  {
   "cell_type": "code",
   "execution_count": null,
   "metadata": {
    "colab": {
     "base_uri": "https://localhost:8080/"
    },
    "executionInfo": {
     "elapsed": 40131,
     "status": "ok",
     "timestamp": 1652004837447,
     "user": {
      "displayName": "RITIK RAJDEV",
      "userId": "08013551540463342687"
     },
     "user_tz": -330
    },
    "id": "A61QbKGWIVas",
    "outputId": "85fae141-2f99-4b5a-dfe7-61381fa20208"
   },
   "outputs": [
    {
     "name": "stderr",
     "output_type": "stream",
     "text": [
      "/usr/local/lib/python3.7/dist-packages/librosa/core/audio.py:165: UserWarning: PySoundFile failed. Trying audioread instead.\n",
      "  warnings.warn(\"PySoundFile failed. Trying audioread instead.\")\n"
     ]
    }
   ],
   "source": [
    "extracted_features = []\n",
    "\n",
    "for label, dataset_dir in zip(classes['label'], classes['dataset_dir']):\n",
    "    for audio_file_path in dataset_dir.iterdir():\n",
    "        features = extract_features(audio_file_path)\n",
    "        extracted_features.append([features, label])"
   ]
  },
  {
   "cell_type": "code",
   "execution_count": null,
   "metadata": {
    "id": "0i3KbdoXKA44"
   },
   "outputs": [],
   "source": [
    "extracted_features_audio = [features for [features, _] in extracted_features]\n",
    "extracted_features_audio = np.asarray(extracted_features_audio) \n",
    "\n",
    "extracted_features_labels = [label for [_, label] in extracted_features]\n",
    "extracted_features_labels = np.asarray(extracted_features_labels)"
   ]
  },
  {
   "cell_type": "markdown",
   "metadata": {
    "id": "j15vsNGFKtx3"
   },
   "source": [
    "## Model Preprocessing & training"
   ]
  },
  {
   "cell_type": "code",
   "execution_count": null,
   "metadata": {
    "id": "l5D97Pu-K3Yw"
   },
   "outputs": [],
   "source": [
    "from sklearn.preprocessing import LabelBinarizer\n",
    "\n",
    "# One Vs Rest Strategy\n",
    "lb = LabelBinarizer()\n",
    "labels = lb.fit_transform(extracted_features_labels)"
   ]
  },
  {
   "cell_type": "code",
   "execution_count": null,
   "metadata": {
    "id": "bKAFVpDuK-j8"
   },
   "outputs": [],
   "source": [
    "from sklearn.model_selection import train_test_split\n",
    "X_train, X_test, Y_train, Y_test = train_test_split(\n",
    "    extracted_features_audio, labels, test_size=0.3)"
   ]
  },
  {
   "cell_type": "code",
   "execution_count": null,
   "metadata": {
    "id": "vRTRsr36N8Mi"
   },
   "outputs": [],
   "source": [
    "num_label_sets = Y_train.shape[1]"
   ]
  },
  {
   "cell_type": "code",
   "execution_count": null,
   "metadata": {
    "id": "n7ZwyG3TLZ0g"
   },
   "outputs": [],
   "source": [
    "from tensorflow.keras.models import Sequential\n",
    "from tensorflow.keras.layers import Dense,Dropout,Activation\n",
    "\n",
    "model=Sequential() \n",
    "\n",
    "model.add(Dense(100,input_shape=(40,)))\n",
    "model.add(Activation('relu'))\n",
    "model.add(Dropout(0.5))\n",
    "\n",
    "model.add(Dense(200))\n",
    "model.add(Activation('relu'))\n",
    "model.add(Dropout(0.5))\n",
    "\n",
    "model.add(Dense(100))\n",
    "model.add(Activation('relu'))\n",
    "model.add(Dropout(0.5))\n",
    "\n",
    "model.add(Dense(num_label_sets))\n",
    "model.add(Activation('softmax'))"
   ]
  },
  {
   "cell_type": "code",
   "execution_count": null,
   "metadata": {
    "id": "0oXhzwBaO9ld"
   },
   "outputs": [],
   "source": [
    "model.compile(loss='categorical_crossentropy',metrics=['accuracy'],optimizer='adam')"
   ]
  },
  {
   "cell_type": "code",
   "execution_count": null,
   "metadata": {
    "colab": {
     "base_uri": "https://localhost:8080/"
    },
    "executionInfo": {
     "elapsed": 11908,
     "status": "ok",
     "timestamp": 1652006303432,
     "user": {
      "displayName": "RITIK RAJDEV",
      "userId": "08013551540463342687"
     },
     "user_tz": -330
    },
    "id": "aeucHP-lPA9A",
    "outputId": "1ba285c7-3e42-4a2a-fb15-657e7517bd59"
   },
   "outputs": [
    {
     "name": "stdout",
     "output_type": "stream",
     "text": [
      "Epoch 1/100\n",
      "1/5 [=====>........................] - ETA: 3s - loss: 66.1898 - accuracy: 0.2812\n",
      "Epoch 1: val_loss improved from inf to 17.20799, saving model to scream_detection.hdf5\n",
      "5/5 [==============================] - 1s 75ms/step - loss: 44.4253 - accuracy: 0.3333 - val_loss: 17.2080 - val_accuracy: 0.3125\n",
      "Epoch 2/100\n",
      "1/5 [=====>........................] - ETA: 0s - loss: 30.2741 - accuracy: 0.4062\n",
      "Epoch 2: val_loss did not improve from 17.20799\n",
      "5/5 [==============================] - 0s 12ms/step - loss: 28.6196 - accuracy: 0.3878 - val_loss: 19.5725 - val_accuracy: 0.3125\n",
      "Epoch 3/100\n",
      "1/5 [=====>........................] - ETA: 0s - loss: 33.0778 - accuracy: 0.5000\n",
      "Epoch 3: val_loss improved from 17.20799 to 13.87145, saving model to scream_detection.hdf5\n",
      "5/5 [==============================] - 0s 17ms/step - loss: 24.2237 - accuracy: 0.4558 - val_loss: 13.8715 - val_accuracy: 0.3281\n",
      "Epoch 4/100\n",
      "1/5 [=====>........................] - ETA: 0s - loss: 23.3957 - accuracy: 0.3750\n",
      "Epoch 4: val_loss improved from 13.87145 to 7.57939, saving model to scream_detection.hdf5\n",
      "5/5 [==============================] - 0s 19ms/step - loss: 16.3961 - accuracy: 0.4966 - val_loss: 7.5794 - val_accuracy: 0.5000\n",
      "Epoch 5/100\n",
      "1/5 [=====>........................] - ETA: 0s - loss: 15.3975 - accuracy: 0.5625\n",
      "Epoch 5: val_loss improved from 7.57939 to 4.12832, saving model to scream_detection.hdf5\n",
      "5/5 [==============================] - 0s 19ms/step - loss: 17.9849 - accuracy: 0.4354 - val_loss: 4.1283 - val_accuracy: 0.5625\n",
      "Epoch 6/100\n",
      "1/5 [=====>........................] - ETA: 0s - loss: 22.6096 - accuracy: 0.4375\n",
      "Epoch 6: val_loss improved from 4.12832 to 2.01372, saving model to scream_detection.hdf5\n",
      "5/5 [==============================] - 0s 19ms/step - loss: 13.5153 - accuracy: 0.4898 - val_loss: 2.0137 - val_accuracy: 0.6250\n",
      "Epoch 7/100\n",
      "1/5 [=====>........................] - ETA: 0s - loss: 7.9466 - accuracy: 0.6562\n",
      "Epoch 7: val_loss improved from 2.01372 to 1.76323, saving model to scream_detection.hdf5\n",
      "5/5 [==============================] - 0s 20ms/step - loss: 11.1697 - accuracy: 0.5510 - val_loss: 1.7632 - val_accuracy: 0.6719\n",
      "Epoch 8/100\n",
      "1/5 [=====>........................] - ETA: 0s - loss: 19.4196 - accuracy: 0.3438\n",
      "Epoch 8: val_loss did not improve from 1.76323\n",
      "5/5 [==============================] - 0s 12ms/step - loss: 12.5662 - accuracy: 0.5034 - val_loss: 1.8595 - val_accuracy: 0.6562\n",
      "Epoch 9/100\n",
      "1/5 [=====>........................] - ETA: 0s - loss: 9.7386 - accuracy: 0.5000\n",
      "Epoch 9: val_loss did not improve from 1.76323\n",
      "5/5 [==============================] - 0s 12ms/step - loss: 11.4862 - accuracy: 0.4558 - val_loss: 1.9503 - val_accuracy: 0.6406\n",
      "Epoch 10/100\n",
      "1/5 [=====>........................] - ETA: 0s - loss: 13.3169 - accuracy: 0.5625\n",
      "Epoch 10: val_loss did not improve from 1.76323\n",
      "5/5 [==============================] - 0s 10ms/step - loss: 8.8834 - accuracy: 0.5510 - val_loss: 1.9052 - val_accuracy: 0.6406\n",
      "Epoch 11/100\n",
      "1/5 [=====>........................] - ETA: 0s - loss: 11.5768 - accuracy: 0.5000\n",
      "Epoch 11: val_loss improved from 1.76323 to 1.59517, saving model to scream_detection.hdf5\n",
      "5/5 [==============================] - 0s 17ms/step - loss: 8.9959 - accuracy: 0.5578 - val_loss: 1.5952 - val_accuracy: 0.6875\n",
      "Epoch 12/100\n",
      "1/5 [=====>........................] - ETA: 0s - loss: 4.8274 - accuracy: 0.7188\n",
      "Epoch 12: val_loss improved from 1.59517 to 1.35655, saving model to scream_detection.hdf5\n",
      "5/5 [==============================] - 0s 17ms/step - loss: 6.0117 - accuracy: 0.6259 - val_loss: 1.3565 - val_accuracy: 0.7031\n",
      "Epoch 13/100\n",
      "1/5 [=====>........................] - ETA: 0s - loss: 9.4904 - accuracy: 0.5625\n",
      "Epoch 13: val_loss improved from 1.35655 to 1.08921, saving model to scream_detection.hdf5\n",
      "5/5 [==============================] - 0s 20ms/step - loss: 7.5007 - accuracy: 0.6122 - val_loss: 1.0892 - val_accuracy: 0.7344\n",
      "Epoch 14/100\n",
      "1/5 [=====>........................] - ETA: 0s - loss: 9.3071 - accuracy: 0.5938\n",
      "Epoch 14: val_loss improved from 1.08921 to 0.83045, saving model to scream_detection.hdf5\n",
      "5/5 [==============================] - 0s 19ms/step - loss: 5.3811 - accuracy: 0.6667 - val_loss: 0.8305 - val_accuracy: 0.7969\n",
      "Epoch 15/100\n",
      "1/5 [=====>........................] - ETA: 0s - loss: 5.3860 - accuracy: 0.5625\n",
      "Epoch 15: val_loss improved from 0.83045 to 0.63946, saving model to scream_detection.hdf5\n",
      "5/5 [==============================] - 0s 17ms/step - loss: 5.8857 - accuracy: 0.6122 - val_loss: 0.6395 - val_accuracy: 0.8125\n",
      "Epoch 16/100\n",
      "1/5 [=====>........................] - ETA: 0s - loss: 5.7079 - accuracy: 0.5000\n",
      "Epoch 16: val_loss improved from 0.63946 to 0.53277, saving model to scream_detection.hdf5\n",
      "5/5 [==============================] - 0s 19ms/step - loss: 6.1474 - accuracy: 0.5170 - val_loss: 0.5328 - val_accuracy: 0.8281\n",
      "Epoch 17/100\n",
      "1/5 [=====>........................] - ETA: 0s - loss: 4.6796 - accuracy: 0.5938\n",
      "Epoch 17: val_loss improved from 0.53277 to 0.49216, saving model to scream_detection.hdf5\n",
      "5/5 [==============================] - 0s 16ms/step - loss: 3.5826 - accuracy: 0.6599 - val_loss: 0.4922 - val_accuracy: 0.8125\n",
      "Epoch 18/100\n",
      "1/5 [=====>........................] - ETA: 0s - loss: 3.0312 - accuracy: 0.7188\n",
      "Epoch 18: val_loss improved from 0.49216 to 0.46501, saving model to scream_detection.hdf5\n",
      "5/5 [==============================] - 0s 20ms/step - loss: 3.5839 - accuracy: 0.6735 - val_loss: 0.4650 - val_accuracy: 0.8438\n",
      "Epoch 19/100\n",
      "1/5 [=====>........................] - ETA: 0s - loss: 3.6295 - accuracy: 0.6250\n",
      "Epoch 19: val_loss did not improve from 0.46501\n",
      "5/5 [==============================] - 0s 10ms/step - loss: 3.7215 - accuracy: 0.6190 - val_loss: 0.5208 - val_accuracy: 0.8438\n",
      "Epoch 20/100\n",
      "1/5 [=====>........................] - ETA: 0s - loss: 2.8353 - accuracy: 0.6562\n",
      "Epoch 20: val_loss did not improve from 0.46501\n",
      "5/5 [==============================] - 0s 10ms/step - loss: 4.2294 - accuracy: 0.5850 - val_loss: 0.5342 - val_accuracy: 0.8125\n",
      "Epoch 21/100\n",
      "1/5 [=====>........................] - ETA: 0s - loss: 2.8419 - accuracy: 0.5938\n",
      "Epoch 21: val_loss did not improve from 0.46501\n",
      "5/5 [==============================] - 0s 10ms/step - loss: 2.9702 - accuracy: 0.6463 - val_loss: 0.5378 - val_accuracy: 0.8281\n",
      "Epoch 22/100\n",
      "1/5 [=====>........................] - ETA: 0s - loss: 3.0673 - accuracy: 0.7812\n",
      "Epoch 22: val_loss did not improve from 0.46501\n",
      "5/5 [==============================] - 0s 12ms/step - loss: 3.5312 - accuracy: 0.6735 - val_loss: 0.5032 - val_accuracy: 0.8438\n",
      "Epoch 23/100\n",
      "1/5 [=====>........................] - ETA: 0s - loss: 4.6134 - accuracy: 0.6250\n",
      "Epoch 23: val_loss did not improve from 0.46501\n",
      "5/5 [==============================] - 0s 10ms/step - loss: 4.0973 - accuracy: 0.6463 - val_loss: 0.4777 - val_accuracy: 0.8438\n",
      "Epoch 24/100\n",
      "1/5 [=====>........................] - ETA: 0s - loss: 3.2398 - accuracy: 0.6562\n",
      "Epoch 24: val_loss improved from 0.46501 to 0.44559, saving model to scream_detection.hdf5\n",
      "5/5 [==============================] - 0s 17ms/step - loss: 3.6290 - accuracy: 0.6531 - val_loss: 0.4456 - val_accuracy: 0.8438\n",
      "Epoch 25/100\n",
      "1/5 [=====>........................] - ETA: 0s - loss: 2.6801 - accuracy: 0.6562\n",
      "Epoch 25: val_loss improved from 0.44559 to 0.40699, saving model to scream_detection.hdf5\n",
      "5/5 [==============================] - 0s 19ms/step - loss: 3.2551 - accuracy: 0.6735 - val_loss: 0.4070 - val_accuracy: 0.8594\n",
      "Epoch 26/100\n",
      "1/5 [=====>........................] - ETA: 0s - loss: 2.4567 - accuracy: 0.7188\n",
      "Epoch 26: val_loss improved from 0.40699 to 0.34405, saving model to scream_detection.hdf5\n",
      "5/5 [==============================] - 0s 19ms/step - loss: 3.3838 - accuracy: 0.6599 - val_loss: 0.3441 - val_accuracy: 0.8594\n",
      "Epoch 27/100\n",
      "1/5 [=====>........................] - ETA: 0s - loss: 2.4752 - accuracy: 0.6562\n",
      "Epoch 27: val_loss improved from 0.34405 to 0.33332, saving model to scream_detection.hdf5\n",
      "5/5 [==============================] - 0s 22ms/step - loss: 2.4119 - accuracy: 0.6939 - val_loss: 0.3333 - val_accuracy: 0.8594\n",
      "Epoch 28/100\n",
      "1/5 [=====>........................] - ETA: 0s - loss: 2.9582 - accuracy: 0.6562\n",
      "Epoch 28: val_loss improved from 0.33332 to 0.29763, saving model to scream_detection.hdf5\n",
      "5/5 [==============================] - 0s 16ms/step - loss: 2.3430 - accuracy: 0.6667 - val_loss: 0.2976 - val_accuracy: 0.8594\n",
      "Epoch 29/100\n",
      "1/5 [=====>........................] - ETA: 0s - loss: 1.8676 - accuracy: 0.7188\n",
      "Epoch 29: val_loss improved from 0.29763 to 0.24206, saving model to scream_detection.hdf5\n",
      "5/5 [==============================] - 0s 16ms/step - loss: 2.6230 - accuracy: 0.7007 - val_loss: 0.2421 - val_accuracy: 0.8750\n",
      "Epoch 30/100\n",
      "1/5 [=====>........................] - ETA: 0s - loss: 3.7607 - accuracy: 0.6875\n",
      "Epoch 30: val_loss improved from 0.24206 to 0.22199, saving model to scream_detection.hdf5\n",
      "5/5 [==============================] - 0s 16ms/step - loss: 2.6685 - accuracy: 0.7279 - val_loss: 0.2220 - val_accuracy: 0.8750\n",
      "Epoch 31/100\n",
      "1/5 [=====>........................] - ETA: 0s - loss: 2.3357 - accuracy: 0.7500\n",
      "Epoch 31: val_loss improved from 0.22199 to 0.20740, saving model to scream_detection.hdf5\n",
      "5/5 [==============================] - 0s 17ms/step - loss: 2.4841 - accuracy: 0.7211 - val_loss: 0.2074 - val_accuracy: 0.8906\n",
      "Epoch 32/100\n",
      "1/5 [=====>........................] - ETA: 0s - loss: 1.8602 - accuracy: 0.7812\n",
      "Epoch 32: val_loss improved from 0.20740 to 0.19187, saving model to scream_detection.hdf5\n",
      "5/5 [==============================] - 0s 17ms/step - loss: 1.8560 - accuracy: 0.7347 - val_loss: 0.1919 - val_accuracy: 0.9375\n",
      "Epoch 33/100\n",
      "1/5 [=====>........................] - ETA: 0s - loss: 2.7319 - accuracy: 0.6250\n",
      "Epoch 33: val_loss improved from 0.19187 to 0.17129, saving model to scream_detection.hdf5\n",
      "5/5 [==============================] - 0s 18ms/step - loss: 2.6101 - accuracy: 0.6599 - val_loss: 0.1713 - val_accuracy: 0.9531\n",
      "Epoch 34/100\n",
      "1/5 [=====>........................] - ETA: 0s - loss: 1.7188 - accuracy: 0.6562\n",
      "Epoch 34: val_loss improved from 0.17129 to 0.16425, saving model to scream_detection.hdf5\n",
      "5/5 [==============================] - 0s 18ms/step - loss: 1.8513 - accuracy: 0.7211 - val_loss: 0.1642 - val_accuracy: 0.9688\n",
      "Epoch 35/100\n",
      "1/5 [=====>........................] - ETA: 0s - loss: 2.7575 - accuracy: 0.6562\n",
      "Epoch 35: val_loss improved from 0.16425 to 0.15998, saving model to scream_detection.hdf5\n",
      "5/5 [==============================] - 0s 17ms/step - loss: 2.4404 - accuracy: 0.6939 - val_loss: 0.1600 - val_accuracy: 0.9688\n",
      "Epoch 36/100\n",
      "1/5 [=====>........................] - ETA: 0s - loss: 1.1459 - accuracy: 0.8750\n",
      "Epoch 36: val_loss did not improve from 0.15998\n",
      "5/5 [==============================] - 0s 10ms/step - loss: 2.1172 - accuracy: 0.8095 - val_loss: 0.1620 - val_accuracy: 0.9375\n",
      "Epoch 37/100\n",
      "1/5 [=====>........................] - ETA: 0s - loss: 2.6204 - accuracy: 0.5625\n",
      "Epoch 37: val_loss improved from 0.15998 to 0.15355, saving model to scream_detection.hdf5\n",
      "5/5 [==============================] - 0s 16ms/step - loss: 1.7193 - accuracy: 0.7075 - val_loss: 0.1536 - val_accuracy: 0.9531\n",
      "Epoch 38/100\n",
      "1/5 [=====>........................] - ETA: 0s - loss: 2.6067 - accuracy: 0.7188\n",
      "Epoch 38: val_loss improved from 0.15355 to 0.14928, saving model to scream_detection.hdf5\n",
      "5/5 [==============================] - 0s 16ms/step - loss: 2.1768 - accuracy: 0.7483 - val_loss: 0.1493 - val_accuracy: 0.9531\n",
      "Epoch 39/100\n",
      "1/5 [=====>........................] - ETA: 0s - loss: 1.3999 - accuracy: 0.6250\n",
      "Epoch 39: val_loss improved from 0.14928 to 0.14606, saving model to scream_detection.hdf5\n",
      "5/5 [==============================] - 0s 18ms/step - loss: 1.8466 - accuracy: 0.7007 - val_loss: 0.1461 - val_accuracy: 0.9531\n",
      "Epoch 40/100\n",
      "1/5 [=====>........................] - ETA: 0s - loss: 1.0592 - accuracy: 0.7812\n",
      "Epoch 40: val_loss improved from 0.14606 to 0.14291, saving model to scream_detection.hdf5\n",
      "5/5 [==============================] - 0s 18ms/step - loss: 1.7659 - accuracy: 0.7347 - val_loss: 0.1429 - val_accuracy: 0.9688\n",
      "Epoch 41/100\n",
      "1/5 [=====>........................] - ETA: 0s - loss: 1.6364 - accuracy: 0.7500\n",
      "Epoch 41: val_loss improved from 0.14291 to 0.13986, saving model to scream_detection.hdf5\n",
      "5/5 [==============================] - 0s 16ms/step - loss: 1.3500 - accuracy: 0.7891 - val_loss: 0.1399 - val_accuracy: 0.9688\n",
      "Epoch 42/100\n",
      "1/5 [=====>........................] - ETA: 0s - loss: 2.0159 - accuracy: 0.6875\n",
      "Epoch 42: val_loss improved from 0.13986 to 0.13357, saving model to scream_detection.hdf5\n",
      "5/5 [==============================] - 0s 16ms/step - loss: 1.3896 - accuracy: 0.7551 - val_loss: 0.1336 - val_accuracy: 0.9688\n",
      "Epoch 43/100\n",
      "1/5 [=====>........................] - ETA: 0s - loss: 1.4160 - accuracy: 0.6562\n",
      "Epoch 43: val_loss improved from 0.13357 to 0.12937, saving model to scream_detection.hdf5\n",
      "5/5 [==============================] - 0s 16ms/step - loss: 1.4502 - accuracy: 0.7279 - val_loss: 0.1294 - val_accuracy: 0.9688\n",
      "Epoch 44/100\n",
      "1/5 [=====>........................] - ETA: 0s - loss: 0.9933 - accuracy: 0.8125\n",
      "Epoch 44: val_loss improved from 0.12937 to 0.12411, saving model to scream_detection.hdf5\n",
      "5/5 [==============================] - 0s 17ms/step - loss: 1.1418 - accuracy: 0.7687 - val_loss: 0.1241 - val_accuracy: 0.9688\n",
      "Epoch 45/100\n",
      "1/5 [=====>........................] - ETA: 0s - loss: 1.2627 - accuracy: 0.7500\n",
      "Epoch 45: val_loss did not improve from 0.12411\n",
      "5/5 [==============================] - 0s 11ms/step - loss: 1.6300 - accuracy: 0.7755 - val_loss: 0.1241 - val_accuracy: 0.9688\n",
      "Epoch 46/100\n",
      "1/5 [=====>........................] - ETA: 0s - loss: 0.9857 - accuracy: 0.8438\n",
      "Epoch 46: val_loss did not improve from 0.12411\n",
      "5/5 [==============================] - 0s 10ms/step - loss: 1.1958 - accuracy: 0.8095 - val_loss: 0.1274 - val_accuracy: 0.9688\n",
      "Epoch 47/100\n",
      "1/5 [=====>........................] - ETA: 0s - loss: 1.9968 - accuracy: 0.6562\n",
      "Epoch 47: val_loss did not improve from 0.12411\n",
      "5/5 [==============================] - 0s 11ms/step - loss: 1.2837 - accuracy: 0.7891 - val_loss: 0.1287 - val_accuracy: 0.9688\n",
      "Epoch 48/100\n",
      "1/5 [=====>........................] - ETA: 0s - loss: 1.2327 - accuracy: 0.6562\n",
      "Epoch 48: val_loss did not improve from 0.12411\n",
      "5/5 [==============================] - 0s 11ms/step - loss: 0.9580 - accuracy: 0.8027 - val_loss: 0.1298 - val_accuracy: 0.9688\n",
      "Epoch 49/100\n",
      "1/5 [=====>........................] - ETA: 0s - loss: 1.3298 - accuracy: 0.8438\n",
      "Epoch 49: val_loss did not improve from 0.12411\n",
      "5/5 [==============================] - 0s 12ms/step - loss: 1.1614 - accuracy: 0.8163 - val_loss: 0.1271 - val_accuracy: 0.9688\n",
      "Epoch 50/100\n",
      "1/5 [=====>........................] - ETA: 0s - loss: 0.7985 - accuracy: 0.8750\n",
      "Epoch 50: val_loss improved from 0.12411 to 0.11919, saving model to scream_detection.hdf5\n",
      "5/5 [==============================] - 0s 16ms/step - loss: 1.1621 - accuracy: 0.8027 - val_loss: 0.1192 - val_accuracy: 0.9688\n",
      "Epoch 51/100\n",
      "1/5 [=====>........................] - ETA: 0s - loss: 0.6190 - accuracy: 0.8438\n",
      "Epoch 51: val_loss improved from 0.11919 to 0.11534, saving model to scream_detection.hdf5\n",
      "5/5 [==============================] - 0s 18ms/step - loss: 1.2174 - accuracy: 0.7755 - val_loss: 0.1153 - val_accuracy: 0.9688\n",
      "Epoch 52/100\n",
      "1/5 [=====>........................] - ETA: 0s - loss: 1.1928 - accuracy: 0.8438\n",
      "Epoch 52: val_loss did not improve from 0.11534\n",
      "5/5 [==============================] - 0s 11ms/step - loss: 0.8380 - accuracy: 0.8435 - val_loss: 0.1175 - val_accuracy: 0.9688\n",
      "Epoch 53/100\n",
      "1/5 [=====>........................] - ETA: 0s - loss: 0.1599 - accuracy: 0.9062\n",
      "Epoch 53: val_loss did not improve from 0.11534\n",
      "5/5 [==============================] - 0s 10ms/step - loss: 0.6460 - accuracy: 0.8435 - val_loss: 0.1184 - val_accuracy: 0.9688\n",
      "Epoch 54/100\n",
      "1/5 [=====>........................] - ETA: 0s - loss: 0.6360 - accuracy: 0.7500\n",
      "Epoch 54: val_loss did not improve from 0.11534\n",
      "5/5 [==============================] - 0s 9ms/step - loss: 1.1401 - accuracy: 0.7891 - val_loss: 0.1185 - val_accuracy: 0.9688\n",
      "Epoch 55/100\n",
      "1/5 [=====>........................] - ETA: 0s - loss: 1.0763 - accuracy: 0.7500\n",
      "Epoch 55: val_loss did not improve from 0.11534\n",
      "5/5 [==============================] - 0s 10ms/step - loss: 1.2001 - accuracy: 0.8095 - val_loss: 0.1182 - val_accuracy: 0.9688\n",
      "Epoch 56/100\n",
      "1/5 [=====>........................] - ETA: 0s - loss: 2.5532 - accuracy: 0.7188\n",
      "Epoch 56: val_loss did not improve from 0.11534\n",
      "5/5 [==============================] - 0s 10ms/step - loss: 1.2817 - accuracy: 0.8095 - val_loss: 0.1253 - val_accuracy: 0.9688\n",
      "Epoch 57/100\n",
      "1/5 [=====>........................] - ETA: 0s - loss: 1.2872 - accuracy: 0.8750\n",
      "Epoch 57: val_loss did not improve from 0.11534\n",
      "5/5 [==============================] - 0s 9ms/step - loss: 1.1426 - accuracy: 0.8435 - val_loss: 0.1296 - val_accuracy: 0.9688\n",
      "Epoch 58/100\n",
      "1/5 [=====>........................] - ETA: 0s - loss: 0.7144 - accuracy: 0.8750\n",
      "Epoch 58: val_loss did not improve from 0.11534\n",
      "5/5 [==============================] - 0s 9ms/step - loss: 0.9352 - accuracy: 0.8299 - val_loss: 0.1353 - val_accuracy: 0.9688\n",
      "Epoch 59/100\n",
      "1/5 [=====>........................] - ETA: 0s - loss: 1.3581 - accuracy: 0.6562\n",
      "Epoch 59: val_loss did not improve from 0.11534\n",
      "5/5 [==============================] - 0s 11ms/step - loss: 0.9350 - accuracy: 0.8095 - val_loss: 0.1374 - val_accuracy: 0.9688\n",
      "Epoch 60/100\n",
      "1/5 [=====>........................] - ETA: 0s - loss: 0.5182 - accuracy: 0.9062\n",
      "Epoch 60: val_loss did not improve from 0.11534\n",
      "5/5 [==============================] - 0s 11ms/step - loss: 1.1391 - accuracy: 0.8095 - val_loss: 0.1353 - val_accuracy: 0.9688\n",
      "Epoch 61/100\n",
      "1/5 [=====>........................] - ETA: 0s - loss: 0.5626 - accuracy: 0.9375\n",
      "Epoch 61: val_loss did not improve from 0.11534\n",
      "5/5 [==============================] - 0s 9ms/step - loss: 0.6864 - accuracy: 0.8844 - val_loss: 0.1308 - val_accuracy: 0.9688\n",
      "Epoch 62/100\n",
      "1/5 [=====>........................] - ETA: 0s - loss: 0.3783 - accuracy: 0.9062\n",
      "Epoch 62: val_loss did not improve from 0.11534\n",
      "5/5 [==============================] - 0s 11ms/step - loss: 0.5948 - accuracy: 0.8435 - val_loss: 0.1275 - val_accuracy: 0.9688\n",
      "Epoch 63/100\n",
      "1/5 [=====>........................] - ETA: 0s - loss: 2.4508 - accuracy: 0.6875\n",
      "Epoch 63: val_loss did not improve from 0.11534\n",
      "5/5 [==============================] - 0s 10ms/step - loss: 1.1447 - accuracy: 0.8095 - val_loss: 0.1229 - val_accuracy: 0.9688\n",
      "Epoch 64/100\n",
      "1/5 [=====>........................] - ETA: 0s - loss: 0.3316 - accuracy: 0.8750\n",
      "Epoch 64: val_loss did not improve from 0.11534\n",
      "5/5 [==============================] - 0s 9ms/step - loss: 0.7271 - accuracy: 0.8571 - val_loss: 0.1172 - val_accuracy: 0.9688\n",
      "Epoch 65/100\n",
      "1/5 [=====>........................] - ETA: 0s - loss: 0.8703 - accuracy: 0.6562\n",
      "Epoch 65: val_loss did not improve from 0.11534\n",
      "5/5 [==============================] - 0s 11ms/step - loss: 0.9837 - accuracy: 0.7891 - val_loss: 0.1170 - val_accuracy: 0.9688\n",
      "Epoch 66/100\n",
      "1/5 [=====>........................] - ETA: 0s - loss: 0.5994 - accuracy: 0.8125\n",
      "Epoch 66: val_loss did not improve from 0.11534\n",
      "5/5 [==============================] - 0s 12ms/step - loss: 0.9291 - accuracy: 0.7823 - val_loss: 0.1159 - val_accuracy: 0.9688\n",
      "Epoch 67/100\n",
      "1/5 [=====>........................] - ETA: 0s - loss: 0.2753 - accuracy: 0.8750\n",
      "Epoch 67: val_loss did not improve from 0.11534\n",
      "5/5 [==============================] - 0s 9ms/step - loss: 0.7250 - accuracy: 0.8299 - val_loss: 0.1181 - val_accuracy: 0.9688\n",
      "Epoch 68/100\n",
      "1/5 [=====>........................] - ETA: 0s - loss: 1.6254 - accuracy: 0.7188\n",
      "Epoch 68: val_loss did not improve from 0.11534\n",
      "5/5 [==============================] - 0s 12ms/step - loss: 0.8803 - accuracy: 0.8027 - val_loss: 0.1215 - val_accuracy: 0.9688\n",
      "Epoch 69/100\n",
      "1/5 [=====>........................] - ETA: 0s - loss: 0.3640 - accuracy: 0.8438\n",
      "Epoch 69: val_loss did not improve from 0.11534\n",
      "5/5 [==============================] - 0s 10ms/step - loss: 0.5312 - accuracy: 0.8231 - val_loss: 0.1222 - val_accuracy: 0.9688\n",
      "Epoch 70/100\n",
      "1/5 [=====>........................] - ETA: 0s - loss: 0.1279 - accuracy: 0.9375\n",
      "Epoch 70: val_loss did not improve from 0.11534\n",
      "5/5 [==============================] - 0s 10ms/step - loss: 0.5920 - accuracy: 0.8367 - val_loss: 0.1211 - val_accuracy: 0.9688\n",
      "Epoch 71/100\n",
      "1/5 [=====>........................] - ETA: 0s - loss: 0.8694 - accuracy: 0.7500\n",
      "Epoch 71: val_loss did not improve from 0.11534\n",
      "5/5 [==============================] - 0s 9ms/step - loss: 1.0051 - accuracy: 0.7687 - val_loss: 0.1188 - val_accuracy: 0.9688\n",
      "Epoch 72/100\n",
      "1/5 [=====>........................] - ETA: 0s - loss: 0.7301 - accuracy: 0.8125\n",
      "Epoch 72: val_loss did not improve from 0.11534\n",
      "5/5 [==============================] - 0s 10ms/step - loss: 0.4613 - accuracy: 0.8639 - val_loss: 0.1172 - val_accuracy: 0.9688\n",
      "Epoch 73/100\n",
      "1/5 [=====>........................] - ETA: 0s - loss: 1.6790 - accuracy: 0.8125\n",
      "Epoch 73: val_loss improved from 0.11534 to 0.10886, saving model to scream_detection.hdf5\n",
      "5/5 [==============================] - 0s 16ms/step - loss: 0.9347 - accuracy: 0.8163 - val_loss: 0.1089 - val_accuracy: 0.9688\n",
      "Epoch 74/100\n",
      "1/5 [=====>........................] - ETA: 0s - loss: 1.1518 - accuracy: 0.8125\n",
      "Epoch 74: val_loss improved from 0.10886 to 0.10002, saving model to scream_detection.hdf5\n",
      "5/5 [==============================] - 0s 19ms/step - loss: 0.6057 - accuracy: 0.8571 - val_loss: 0.1000 - val_accuracy: 0.9688\n",
      "Epoch 75/100\n",
      "1/5 [=====>........................] - ETA: 0s - loss: 0.9009 - accuracy: 0.8125\n",
      "Epoch 75: val_loss improved from 0.10002 to 0.09912, saving model to scream_detection.hdf5\n",
      "5/5 [==============================] - 0s 17ms/step - loss: 0.7229 - accuracy: 0.8367 - val_loss: 0.0991 - val_accuracy: 0.9688\n",
      "Epoch 76/100\n",
      "1/5 [=====>........................] - ETA: 0s - loss: 0.3884 - accuracy: 0.8750\n",
      "Epoch 76: val_loss improved from 0.09912 to 0.09721, saving model to scream_detection.hdf5\n",
      "5/5 [==============================] - 0s 17ms/step - loss: 0.7180 - accuracy: 0.8299 - val_loss: 0.0972 - val_accuracy: 0.9688\n",
      "Epoch 77/100\n",
      "1/5 [=====>........................] - ETA: 0s - loss: 0.7788 - accuracy: 0.8125\n",
      "Epoch 77: val_loss improved from 0.09721 to 0.09349, saving model to scream_detection.hdf5\n",
      "5/5 [==============================] - 0s 17ms/step - loss: 0.5514 - accuracy: 0.8503 - val_loss: 0.0935 - val_accuracy: 0.9688\n",
      "Epoch 78/100\n",
      "1/5 [=====>........................] - ETA: 0s - loss: 0.4799 - accuracy: 0.8438\n",
      "Epoch 78: val_loss improved from 0.09349 to 0.09290, saving model to scream_detection.hdf5\n",
      "5/5 [==============================] - 0s 18ms/step - loss: 0.4745 - accuracy: 0.8299 - val_loss: 0.0929 - val_accuracy: 0.9688\n",
      "Epoch 79/100\n",
      "1/5 [=====>........................] - ETA: 0s - loss: 0.6950 - accuracy: 0.8438\n",
      "Epoch 79: val_loss did not improve from 0.09290\n",
      "5/5 [==============================] - 0s 10ms/step - loss: 0.7199 - accuracy: 0.8299 - val_loss: 0.0956 - val_accuracy: 0.9688\n",
      "Epoch 80/100\n",
      "1/5 [=====>........................] - ETA: 0s - loss: 0.8921 - accuracy: 0.8125\n",
      "Epoch 80: val_loss did not improve from 0.09290\n",
      "5/5 [==============================] - 0s 10ms/step - loss: 0.6003 - accuracy: 0.8639 - val_loss: 0.0997 - val_accuracy: 0.9688\n",
      "Epoch 81/100\n",
      "1/5 [=====>........................] - ETA: 0s - loss: 0.4237 - accuracy: 0.8750\n",
      "Epoch 81: val_loss did not improve from 0.09290\n",
      "5/5 [==============================] - 0s 14ms/step - loss: 0.6524 - accuracy: 0.8639 - val_loss: 0.1039 - val_accuracy: 0.9688\n",
      "Epoch 82/100\n",
      "1/5 [=====>........................] - ETA: 0s - loss: 0.6566 - accuracy: 0.8750\n",
      "Epoch 82: val_loss did not improve from 0.09290\n",
      "5/5 [==============================] - 0s 11ms/step - loss: 0.5866 - accuracy: 0.8367 - val_loss: 0.1058 - val_accuracy: 0.9688\n",
      "Epoch 83/100\n",
      "1/5 [=====>........................] - ETA: 0s - loss: 0.3979 - accuracy: 0.8750\n",
      "Epoch 83: val_loss did not improve from 0.09290\n",
      "5/5 [==============================] - 0s 11ms/step - loss: 0.6292 - accuracy: 0.8639 - val_loss: 0.1043 - val_accuracy: 0.9688\n",
      "Epoch 84/100\n",
      "1/5 [=====>........................] - ETA: 0s - loss: 0.4649 - accuracy: 0.8750\n",
      "Epoch 84: val_loss did not improve from 0.09290\n",
      "5/5 [==============================] - 0s 9ms/step - loss: 0.6451 - accuracy: 0.8435 - val_loss: 0.0998 - val_accuracy: 0.9688\n",
      "Epoch 85/100\n",
      "1/5 [=====>........................] - ETA: 0s - loss: 0.6857 - accuracy: 0.9062\n",
      "Epoch 85: val_loss did not improve from 0.09290\n",
      "5/5 [==============================] - 0s 10ms/step - loss: 0.6616 - accuracy: 0.8707 - val_loss: 0.0950 - val_accuracy: 0.9688\n",
      "Epoch 86/100\n",
      "1/5 [=====>........................] - ETA: 0s - loss: 0.4680 - accuracy: 0.8750\n",
      "Epoch 86: val_loss did not improve from 0.09290\n",
      "5/5 [==============================] - 0s 10ms/step - loss: 0.5238 - accuracy: 0.8776 - val_loss: 0.0930 - val_accuracy: 0.9688\n",
      "Epoch 87/100\n",
      "1/5 [=====>........................] - ETA: 0s - loss: 0.4502 - accuracy: 0.9062\n",
      "Epoch 87: val_loss improved from 0.09290 to 0.08975, saving model to scream_detection.hdf5\n",
      "5/5 [==============================] - 0s 16ms/step - loss: 0.5169 - accuracy: 0.8912 - val_loss: 0.0898 - val_accuracy: 0.9688\n",
      "Epoch 88/100\n",
      "1/5 [=====>........................] - ETA: 0s - loss: 0.3665 - accuracy: 0.9062\n",
      "Epoch 88: val_loss improved from 0.08975 to 0.08616, saving model to scream_detection.hdf5\n",
      "5/5 [==============================] - 0s 19ms/step - loss: 0.6403 - accuracy: 0.8639 - val_loss: 0.0862 - val_accuracy: 0.9688\n",
      "Epoch 89/100\n",
      "1/5 [=====>........................] - ETA: 0s - loss: 0.0806 - accuracy: 0.9375\n",
      "Epoch 89: val_loss improved from 0.08616 to 0.08399, saving model to scream_detection.hdf5\n",
      "5/5 [==============================] - 0s 19ms/step - loss: 0.3686 - accuracy: 0.8503 - val_loss: 0.0840 - val_accuracy: 0.9688\n",
      "Epoch 90/100\n",
      "1/5 [=====>........................] - ETA: 0s - loss: 0.8528 - accuracy: 0.8750\n",
      "Epoch 90: val_loss improved from 0.08399 to 0.08272, saving model to scream_detection.hdf5\n",
      "5/5 [==============================] - 0s 19ms/step - loss: 0.4815 - accuracy: 0.8980 - val_loss: 0.0827 - val_accuracy: 0.9688\n",
      "Epoch 91/100\n",
      "1/5 [=====>........................] - ETA: 0s - loss: 0.3105 - accuracy: 0.9375\n",
      "Epoch 91: val_loss improved from 0.08272 to 0.07951, saving model to scream_detection.hdf5\n",
      "5/5 [==============================] - 0s 19ms/step - loss: 0.4106 - accuracy: 0.9184 - val_loss: 0.0795 - val_accuracy: 0.9688\n",
      "Epoch 92/100\n",
      "1/5 [=====>........................] - ETA: 0s - loss: 0.3966 - accuracy: 0.8750\n",
      "Epoch 92: val_loss improved from 0.07951 to 0.07609, saving model to scream_detection.hdf5\n",
      "5/5 [==============================] - 0s 19ms/step - loss: 0.4285 - accuracy: 0.8571 - val_loss: 0.0761 - val_accuracy: 0.9688\n",
      "Epoch 93/100\n",
      "1/5 [=====>........................] - ETA: 0s - loss: 0.2403 - accuracy: 0.9375\n",
      "Epoch 93: val_loss improved from 0.07609 to 0.07312, saving model to scream_detection.hdf5\n",
      "5/5 [==============================] - 0s 21ms/step - loss: 0.4612 - accuracy: 0.8776 - val_loss: 0.0731 - val_accuracy: 0.9688\n",
      "Epoch 94/100\n",
      "1/5 [=====>........................] - ETA: 0s - loss: 0.9768 - accuracy: 0.8125\n",
      "Epoch 94: val_loss improved from 0.07312 to 0.07135, saving model to scream_detection.hdf5\n",
      "5/5 [==============================] - 0s 19ms/step - loss: 0.5410 - accuracy: 0.8844 - val_loss: 0.0713 - val_accuracy: 0.9688\n",
      "Epoch 95/100\n",
      "1/5 [=====>........................] - ETA: 0s - loss: 0.2393 - accuracy: 0.9062\n",
      "Epoch 95: val_loss improved from 0.07135 to 0.06936, saving model to scream_detection.hdf5\n",
      "5/5 [==============================] - 0s 21ms/step - loss: 0.5949 - accuracy: 0.8435 - val_loss: 0.0694 - val_accuracy: 0.9688\n",
      "Epoch 96/100\n",
      "1/5 [=====>........................] - ETA: 0s - loss: 1.0596 - accuracy: 0.8750\n",
      "Epoch 96: val_loss improved from 0.06936 to 0.06539, saving model to scream_detection.hdf5\n",
      "5/5 [==============================] - 0s 78ms/step - loss: 0.4290 - accuracy: 0.9252 - val_loss: 0.0654 - val_accuracy: 0.9688\n",
      "Epoch 97/100\n",
      "1/5 [=====>........................] - ETA: 0s - loss: 0.3668 - accuracy: 0.9062\n",
      "Epoch 97: val_loss improved from 0.06539 to 0.06199, saving model to scream_detection.hdf5\n",
      "5/5 [==============================] - 0s 42ms/step - loss: 0.3503 - accuracy: 0.8844 - val_loss: 0.0620 - val_accuracy: 0.9844\n",
      "Epoch 98/100\n",
      "1/5 [=====>........................] - ETA: 0s - loss: 1.1890 - accuracy: 0.8125\n",
      "Epoch 98: val_loss improved from 0.06199 to 0.05839, saving model to scream_detection.hdf5\n",
      "5/5 [==============================] - 0s 16ms/step - loss: 0.5355 - accuracy: 0.8912 - val_loss: 0.0584 - val_accuracy: 0.9844\n",
      "Epoch 99/100\n",
      "1/5 [=====>........................] - ETA: 0s - loss: 0.1806 - accuracy: 0.9375\n",
      "Epoch 99: val_loss improved from 0.05839 to 0.05577, saving model to scream_detection.hdf5\n",
      "5/5 [==============================] - 0s 18ms/step - loss: 0.4174 - accuracy: 0.8776 - val_loss: 0.0558 - val_accuracy: 0.9844\n",
      "Epoch 100/100\n",
      "1/5 [=====>........................] - ETA: 0s - loss: 0.2839 - accuracy: 0.9062\n",
      "Epoch 100: val_loss improved from 0.05577 to 0.05248, saving model to scream_detection.hdf5\n",
      "5/5 [==============================] - 0s 18ms/step - loss: 0.6351 - accuracy: 0.8912 - val_loss: 0.0525 - val_accuracy: 0.9844\n"
     ]
    },
    {
     "data": {
      "text/plain": [
       "<keras.callbacks.History at 0x7f4843899650>"
      ]
     },
     "execution_count": 59,
     "metadata": {},
     "output_type": "execute_result"
    }
   ],
   "source": [
    "from tensorflow.keras.callbacks import ModelCheckpoint\n",
    "\n",
    "checkpointer = ModelCheckpoint(filepath='scream_detection.hdf5', \n",
    "                               verbose=1, save_best_only=True)\n",
    "\n",
    "model.fit(X_train, Y_train,\n",
    "          batch_size=32, \n",
    "          epochs=100,\n",
    "          validation_data=(X_test, Y_test),\n",
    "          callbacks=[checkpointer],\n",
    "          verbose=1,\n",
    "          shuffle = True\n",
    ")"
   ]
  },
  {
   "cell_type": "code",
   "execution_count": null,
   "metadata": {
    "colab": {
     "base_uri": "https://localhost:8080/"
    },
    "executionInfo": {
     "elapsed": 389,
     "status": "ok",
     "timestamp": 1652006357772,
     "user": {
      "displayName": "RITIK RAJDEV",
      "userId": "08013551540463342687"
     },
     "user_tz": -330
    },
    "id": "3Ld2GCzPP4Uo",
    "outputId": "d82a1823-1d35-4b37-eef1-2cb9b157355f"
   },
   "outputs": [
    {
     "data": {
      "text/plain": [
       "[0.052477069199085236, 0.984375]"
      ]
     },
     "execution_count": 61,
     "metadata": {},
     "output_type": "execute_result"
    }
   ],
   "source": [
    "test_accuracy = model.evaluate(X_test,Y_test,verbose=0)\n",
    "test_accuracy"
   ]
  },
  {
   "cell_type": "markdown",
   "metadata": {
    "id": "Ej9q5eIeZJGa"
   },
   "source": [
    "## Predict"
   ]
  },
  {
   "cell_type": "code",
   "execution_count": null,
   "metadata": {
    "id": "4TG-mA39QF7g"
   },
   "outputs": [],
   "source": [
    "def predict(file: Path, model):\n",
    "    # read extract_features from feature extraction\n",
    "    features = extract_features(file)\n",
    "    features = features.reshape(1, -1)\n",
    "    labels = ['atmospheric', 'non_scream', 'scream']\n",
    "    predict_x = model.predict(features)\n",
    "    classes_x = np.argmax(predict_x, axis=1)\n",
    "    return labels[classes_x[0]]"
   ]
  },
  {
   "cell_type": "code",
   "execution_count": 1,
   "metadata": {
    "colab": {
     "base_uri": "https://localhost:8080/"
    },
    "executionInfo": {
     "elapsed": 407,
     "status": "ok",
     "timestamp": 1652008642666,
     "user": {
      "displayName": "RITIK RAJDEV",
      "userId": "08013551540463342687"
     },
     "user_tz": -330
    },
    "id": "X1G4UUe1X_7i",
    "outputId": "4186c137-eefe-4c87-a700-190e7f415a88"
   },
   "outputs": [
    {
     "ename": "ModuleNotFoundError",
     "evalue": "No module named 'tensorflow'",
     "output_type": "error",
     "traceback": [
      "\u001b[0;31m---------------------------------------------------------------------------\u001b[0m",
      "\u001b[0;31mModuleNotFoundError\u001b[0m                       Traceback (most recent call last)",
      "Input \u001b[0;32mIn [1]\u001b[0m, in \u001b[0;36m<cell line: 1>\u001b[0;34m()\u001b[0m\n\u001b[0;32m----> 1\u001b[0m \u001b[38;5;28;01mfrom\u001b[39;00m \u001b[38;5;21;01mtensorflow\u001b[39;00m \u001b[38;5;28;01mimport\u001b[39;00m keras\n\u001b[1;32m      3\u001b[0m model \u001b[38;5;241m=\u001b[39m keras\u001b[38;5;241m.\u001b[39mmodels\u001b[38;5;241m.\u001b[39mload_model(\u001b[38;5;124m'\u001b[39m\u001b[38;5;124m/content/scream_detection.hdf5\u001b[39m\u001b[38;5;124m'\u001b[39m)\n\u001b[1;32m      4\u001b[0m model\n",
      "\u001b[0;31mModuleNotFoundError\u001b[0m: No module named 'tensorflow'"
     ]
    }
   ],
   "source": [
    "from tensorflow import keras\n",
    "\n",
    "model = keras.models.load_model('/content/scream_detection.hdf5')\n",
    "model"
   ]
  },
  {
   "cell_type": "code",
   "execution_count": null,
   "metadata": {
    "colab": {
     "base_uri": "https://localhost:8080/",
     "height": 36
    },
    "executionInfo": {
     "elapsed": 407,
     "status": "ok",
     "timestamp": 1652008705704,
     "user": {
      "displayName": "RITIK RAJDEV",
      "userId": "08013551540463342687"
     },
     "user_tz": -330
    },
    "id": "57cSrf3pXr9H",
    "outputId": "0f76bbf5-3744-4ed5-8569-40b2bbc8df1d"
   },
   "outputs": [
    {
     "data": {
      "application/vnd.google.colaboratory.intrinsic+json": {
       "type": "string"
      },
      "text/plain": [
       "'scream'"
      ]
     },
     "execution_count": 73,
     "metadata": {},
     "output_type": "execute_result"
    }
   ],
   "source": [
    "predict(next(SCREAM_PATH.iterdir()), model)"
   ]
  },
  {
   "cell_type": "code",
   "execution_count": null,
   "metadata": {
    "colab": {
     "base_uri": "https://localhost:8080/",
     "height": 36
    },
    "executionInfo": {
     "elapsed": 523,
     "status": "ok",
     "timestamp": 1652008707780,
     "user": {
      "displayName": "RITIK RAJDEV",
      "userId": "08013551540463342687"
     },
     "user_tz": -330
    },
    "id": "7QralnXlXzSL",
    "outputId": "22505faa-5f20-4a4c-eb55-5eb8ee45c8ad"
   },
   "outputs": [
    {
     "data": {
      "application/vnd.google.colaboratory.intrinsic+json": {
       "type": "string"
      },
      "text/plain": [
       "'non_scream'"
      ]
     },
     "execution_count": 74,
     "metadata": {},
     "output_type": "execute_result"
    }
   ],
   "source": [
    "predict(next(NON_SCREAM_PATH.iterdir()), model)"
   ]
  },
  {
   "cell_type": "code",
   "execution_count": null,
   "metadata": {
    "colab": {
     "base_uri": "https://localhost:8080/",
     "height": 36
    },
    "executionInfo": {
     "elapsed": 694,
     "status": "ok",
     "timestamp": 1652008709452,
     "user": {
      "displayName": "RITIK RAJDEV",
      "userId": "08013551540463342687"
     },
     "user_tz": -330
    },
    "id": "6aeU_e9KX6U_",
    "outputId": "20a3b3c1-2846-4db1-b746-fd8759507f14"
   },
   "outputs": [
    {
     "data": {
      "application/vnd.google.colaboratory.intrinsic+json": {
       "type": "string"
      },
      "text/plain": [
       "'atmospheric'"
      ]
     },
     "execution_count": 75,
     "metadata": {},
     "output_type": "execute_result"
    }
   ],
   "source": [
    "predict(next(ATMOSPHERIC_PATH.iterdir()), model)"
   ]
  }
 ],
 "metadata": {
  "colab": {
   "authorship_tag": "ABX9TyN3Tk8TEc9JYhemxUY0uScB",
   "collapsed_sections": [
    "pS7Y6z3jtZaj",
    "yWibVr2puBiw",
    "TuvvK-HpuO70",
    "j15vsNGFKtx3",
    "Ej9q5eIeZJGa"
   ],
   "name": "Capstone.ipynb",
   "provenance": []
  },
  "kernelspec": {
   "display_name": "Python 3 (ipykernel)",
   "language": "python",
   "name": "python3"
  },
  "language_info": {
   "codemirror_mode": {
    "name": "ipython",
    "version": 3
   },
   "file_extension": ".py",
   "mimetype": "text/x-python",
   "name": "python",
   "nbconvert_exporter": "python",
   "pygments_lexer": "ipython3",
   "version": "3.10.5"
  }
 },
 "nbformat": 4,
 "nbformat_minor": 1
}
